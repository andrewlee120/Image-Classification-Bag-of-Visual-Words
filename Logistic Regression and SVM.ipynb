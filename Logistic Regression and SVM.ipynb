{
 "cells": [
  {
   "cell_type": "markdown",
   "metadata": {},
   "source": [
    "# Import data for cat and dog dataset:\n",
    "\n",
    "Here we are splitting the data set for the cats and dogs into training set and test set."
   ]
  },
  {
   "cell_type": "code",
   "execution_count": 1,
   "metadata": {},
   "outputs": [],
   "source": [
    "# Importing the libraries to be used:\n",
    "import numpy as np\n",
    "import pandas as pd\n",
    "from sklearn import linear_model\n",
    "import matplotlib.pyplot as plt\n",
    "%matplotlib inline "
   ]
  },
  {
   "cell_type": "code",
   "execution_count": 2,
   "metadata": {},
   "outputs": [
    {
     "name": "stdout",
     "output_type": "stream",
     "text": [
      "(1899, 201)\n",
      "(790, 201)\n"
     ]
    }
   ],
   "source": [
    "df_train = pd.read_csv(\"train_data.csv\") \n",
    "print(df_train.shape)\n",
    "\n",
    "df_test = pd.read_csv(\"test_data.csv\")\n",
    "print(df_test.shape)"
   ]
  },
  {
   "cell_type": "code",
   "execution_count": 3,
   "metadata": {},
   "outputs": [
    {
     "name": "stdout",
     "output_type": "stream",
     "text": [
      "(1899, 201)\n",
      "(790, 201)\n"
     ]
    }
   ],
   "source": [
    "df1_train = df_train.dropna()\n",
    "print(df1_train.shape)\n",
    "\n",
    "df1_test = df_test.dropna()\n",
    "print(df1_test.shape)"
   ]
  },
  {
   "cell_type": "code",
   "execution_count": 4,
   "metadata": {},
   "outputs": [
    {
     "name": "stdout",
     "output_type": "stream",
     "text": [
      "(1899, 201)\n",
      "(790, 201)\n"
     ]
    }
   ],
   "source": [
    "df2_train = df1_train.values\n",
    "print(df2_train.shape)\n",
    "\n",
    "df2_test = df1_test.values\n",
    "print(df2_test.shape)"
   ]
  },
  {
   "cell_type": "code",
   "execution_count": 5,
   "metadata": {},
   "outputs": [],
   "source": [
    "X_train = df2_train[:,:200]\n",
    "Y_train = df2_train[:,200]\n",
    "X_test = df2_test[:,:200]\n",
    "Y_test = df2_test[:,200]"
   ]
  },
  {
   "cell_type": "markdown",
   "metadata": {},
   "source": [
    "# Logistic Regression\n",
    "\n",
    "Here we will first use logistic regression to classify our data."
   ]
  },
  {
   "cell_type": "markdown",
   "metadata": {},
   "source": [
    "# Logistic Regression with Lasso (L1) Regularization"
   ]
  },
  {
   "cell_type": "code",
   "execution_count": 6,
   "metadata": {},
   "outputs": [],
   "source": [
    "# Empty list to store values of training set accuracy.\n",
    "acc_train_logreg = []\n",
    "\n",
    "# Empty list to store values of test set accuracy.\n",
    "acc_test_logreg = []\n",
    "\n",
    "# Empty list to store different values of parameter 'c'.\n",
    "c_logreg = []"
   ]
  },
  {
   "cell_type": "code",
   "execution_count": 7,
   "metadata": {},
   "outputs": [],
   "source": [
    "def logreg_model(c , X_train, Y_train, X_test, Y_test, max_iter):\n",
    "    # Using L1 penalty and saga solver\n",
    "    logreg = linear_model.LogisticRegression(penalty='l1',C=c,solver='saga',max_iter=max_iter)\n",
    "    \n",
    "    # Fit the model on the training set\n",
    "    logreg.fit(X_train,Y_train)\n",
    "    \n",
    "    # Find the prediction on training set\n",
    "    Yhat_train = logreg.predict(X_train)\n",
    "    \n",
    "    # Adding training accuracy to acc_train_logreg\n",
    "    acc_train = logreg.score(X_train, Y_train)\n",
    "    acc_train_logreg.append(acc_train)\n",
    "    print(\"Accuracy on training data = %f\" % acc_train)\n",
    "    \n",
    "    # Find the prediction on test set\n",
    "    Yhat_test = logreg.predict(X_test)\n",
    "    \n",
    "    # Adding testing accuracy to acc_test_logreg\n",
    "    acc_test = logreg.score(X_test, Y_test)\n",
    "    acc_test_logreg.append(acc_test)\n",
    "    print(\"Accuracy on test data = %f\" % acc_test)\n",
    "    \n",
    "    # Appending value of c for graphing purposes\n",
    "    c_logreg.append(c)"
   ]
  },
  {
   "cell_type": "code",
   "execution_count": 8,
   "metadata": {},
   "outputs": [
    {
     "name": "stdout",
     "output_type": "stream",
     "text": [
      "Logistic Regression with Lasso (L1) Regularization\n",
      "==================================================\n",
      "\n",
      "\n",
      "For C value = 0.000100:\n",
      "Accuracy on training data = 0.631912\n",
      "Accuracy on test data = 0.650633\n",
      "\n",
      "\n",
      "For C value = 0.001000:\n",
      "Accuracy on training data = 0.636651\n",
      "Accuracy on test data = 0.659494\n",
      "\n",
      "\n",
      "For C value = 0.010000:\n",
      "Accuracy on training data = 0.823591\n",
      "Accuracy on test data = 0.818987\n",
      "\n",
      "\n",
      "For C value = 0.100000:\n",
      "Accuracy on training data = 0.853607\n",
      "Accuracy on test data = 0.834177\n",
      "\n",
      "\n",
      "For C value = 1.000000:\n",
      "Accuracy on training data = 0.860453\n",
      "Accuracy on test data = 0.841772\n",
      "\n",
      "\n",
      "For C value = 10.000000:\n",
      "Accuracy on training data = 0.859926\n",
      "Accuracy on test data = 0.843038\n",
      "\n",
      "\n",
      "For C value = 100.000000:\n",
      "Accuracy on training data = 0.859926\n",
      "Accuracy on test data = 0.843038\n"
     ]
    }
   ],
   "source": [
    "cVals = [0.0001, 0.001, 0.01, 0.1, 1, 10, 100]\n",
    "print(\"Logistic Regression with Lasso (L1) Regularization\")\n",
    "print(\"==================================================\")\n",
    "for c in cVals:\n",
    "    print(\"\\n\")\n",
    "    print(\"For C value = %f:\" % c)\n",
    "    logreg_model(c, X_train, Y_train, X_test, Y_test, 3500)"
   ]
  },
  {
   "cell_type": "code",
   "execution_count": 9,
   "metadata": {},
   "outputs": [
    {
     "data": {
      "image/png": "[encoded data removed]",
      "text/plain": [
       "<Figure size 432x288 with 1 Axes>"
      ]
     },
     "metadata": {
      "needs_background": "light"
     },
     "output_type": "display_data"
    }
   ],
   "source": [
    "plt.title(\"Logistic Regression with Lasso (L1) Regularization\")\n",
    "plt.xlabel(\"C value\")\n",
    "plt.ylabel(\"Accuracy\")\n",
    "plt.plot(c_logreg,acc_train_logreg)\n",
    "plt.plot(c_logreg,acc_test_logreg)\n",
    "plt.legend(['Training Accuracy', 'Test Accuracy'], loc='lower right')\n",
    "plt.show()"
   ]
  },
  {
   "cell_type": "markdown",
   "metadata": {},
   "source": [
    "# Logistic Regression with Ridge (L2) Regularization"
   ]
  },
  {
   "cell_type": "code",
   "execution_count": 10,
   "metadata": {},
   "outputs": [],
   "source": [
    "acc_train_logreg2 = []\n",
    "acc_test_logreg2 = []\n",
    "c_logreg2 = []"
   ]
  },
  {
   "cell_type": "code",
   "execution_count": 11,
   "metadata": {},
   "outputs": [],
   "source": [
    "def logreg2_model(c , X_train, Y_train, X_test, Y_test, max_iter):\n",
    "    # Using L2 penalty\n",
    "    logreg2 = linear_model.LogisticRegression(C=c,solver='liblinear',max_iter=max_iter)\n",
    "    \n",
    "    # Fit the model on the training set\n",
    "    logreg2.fit(X_train, Y_train)\n",
    "    \n",
    "    # Find the prediction on training set\n",
    "    Yhat_train = logreg2.predict(X_train)\n",
    "    \n",
    "    # Adding training accuracy to acc_train_logreg2\n",
    "    acc_train = logreg2.score(X_train, Y_train)\n",
    "    acc_train_logreg2.append(acc_train)\n",
    "    print(\"Accuracy on training data = %f\" % acc_train)\n",
    "    \n",
    "    # Find the prediction on test set\n",
    "    Yhat_test = logreg2.predict(X_test)\n",
    "    \n",
    "    # Adding testing accuracy to acc_test_logreg2\n",
    "    acc_test = logreg2.score(X_test, Y_test)\n",
    "    acc_test_logreg2.append(acc_test)\n",
    "    print(\"Accuracy on test data = %f\" % acc_test)\n",
    "    \n",
    "    # Appending value of c for graphing purposes\n",
    "    c_logreg2.append(c)"
   ]
  },
  {
   "cell_type": "code",
   "execution_count": 12,
   "metadata": {},
   "outputs": [
    {
     "name": "stdout",
     "output_type": "stream",
     "text": [
      "Logistic Regression with Ridge (L2) Regularization\n",
      "=================================================\n",
      "\n",
      "\n",
      "For C value = 0.000100:\n",
      "Accuracy on training data = 0.825698\n",
      "Accuracy on test data = 0.830380\n",
      "\n",
      "\n",
      "For C value = 0.001000:\n",
      "Accuracy on training data = 0.856240\n",
      "Accuracy on test data = 0.837975\n",
      "\n",
      "\n",
      "For C value = 0.010000:\n",
      "Accuracy on training data = 0.862559\n",
      "Accuracy on test data = 0.826582\n",
      "\n",
      "\n",
      "For C value = 0.100000:\n",
      "Accuracy on training data = 0.862033\n",
      "Accuracy on test data = 0.817722\n",
      "\n",
      "\n",
      "For C value = 1.000000:\n",
      "Accuracy on training data = 0.860453\n",
      "Accuracy on test data = 0.817722\n",
      "\n",
      "\n",
      "For C value = 10.000000:\n",
      "Accuracy on training data = 0.860979\n",
      "Accuracy on test data = 0.817722\n",
      "\n",
      "\n",
      "For C value = 100.000000:\n",
      "Accuracy on training data = 0.860979\n",
      "Accuracy on test data = 0.817722\n"
     ]
    }
   ],
   "source": [
    "print(\"Logistic Regression with Ridge (L2) Regularization\")\n",
    "print(\"=================================================\")\n",
    "for c in cVals:\n",
    "    print(\"\\n\")\n",
    "    print(\"For C value = %f:\" % c)\n",
    "    logreg2_model(c, X_train, Y_train, X_test, Y_test, 100)"
   ]
  },
  {
   "cell_type": "code",
   "execution_count": 13,
   "metadata": {},
   "outputs": [
    {
     "data": {
      "image/png": "[encoded data removed]",
      "text/plain": [
       "<Figure size 432x288 with 1 Axes>"
      ]
     },
     "metadata": {
      "needs_background": "light"
     },
     "output_type": "display_data"
    }
   ],
   "source": [
    "plt.title(\"Logistic Regression with Ridge (L2) Regularization\")\n",
    "plt.xlabel(\"C value\")\n",
    "plt.ylabel(\"Accuracy\")\n",
    "plt.plot(c_logreg2, acc_train_logreg2)\n",
    "plt.plot(c_logreg2, acc_test_logreg2)\n",
    "plt.legend(['Training Accuracy', 'Test Accuracy'], loc='lower right')\n",
    "plt.show()"
   ]
  },
  {
   "cell_type": "markdown",
   "metadata": {},
   "source": [
    "# Logistic Regression Using Polynomial Feature Transformation"
   ]
  },
  {
   "cell_type": "code",
   "execution_count": 14,
   "metadata": {},
   "outputs": [],
   "source": [
    "from sklearn.preprocessing import PolynomialFeatures"
   ]
  },
  {
   "cell_type": "code",
   "execution_count": 15,
   "metadata": {},
   "outputs": [],
   "source": [
    "# Object of PolynomialFeatures(2)\n",
    "poly = PolynomialFeatures(2)"
   ]
  },
  {
   "cell_type": "code",
   "execution_count": 16,
   "metadata": {},
   "outputs": [],
   "source": [
    "# Transformed data matrices\n",
    "X_transformed_train = poly.fit_transform(X_train)\n",
    "X_transformed_test = poly.fit_transform(X_test)"
   ]
  },
  {
   "cell_type": "code",
   "execution_count": 17,
   "metadata": {},
   "outputs": [
    {
     "name": "stdout",
     "output_type": "stream",
     "text": [
      "Logistic Regression with Lasso using Polynomial Feature Transformation\n",
      "======================================================================\n",
      "\n",
      "\n",
      "For C value = 0.000100:\n"
     ]
    },
    {
     "name": "stderr",
     "output_type": "stream",
     "text": [
      "/anaconda3/lib/python3.7/site-packages/sklearn/linear_model/sag.py:334: ConvergenceWarning: The max_iter was reached which means the coef_ did not converge\n",
      "  \"the coef_ did not converge\", ConvergenceWarning)\n"
     ]
    },
    {
     "name": "stdout",
     "output_type": "stream",
     "text": [
      "Accuracy on training data = 0.642970\n",
      "Accuracy on test data = 0.645570\n",
      "\n",
      "\n",
      "For C value = 0.001000:\n"
     ]
    },
    {
     "name": "stderr",
     "output_type": "stream",
     "text": [
      "/anaconda3/lib/python3.7/site-packages/sklearn/linear_model/sag.py:334: ConvergenceWarning: The max_iter was reached which means the coef_ did not converge\n",
      "  \"the coef_ did not converge\", ConvergenceWarning)\n"
     ]
    },
    {
     "name": "stdout",
     "output_type": "stream",
     "text": [
      "Accuracy on training data = 0.639810\n",
      "Accuracy on test data = 0.653165\n",
      "\n",
      "\n",
      "For C value = 0.010000:\n"
     ]
    },
    {
     "name": "stderr",
     "output_type": "stream",
     "text": [
      "/anaconda3/lib/python3.7/site-packages/sklearn/linear_model/sag.py:334: ConvergenceWarning: The max_iter was reached which means the coef_ did not converge\n",
      "  \"the coef_ did not converge\", ConvergenceWarning)\n"
     ]
    },
    {
     "name": "stdout",
     "output_type": "stream",
     "text": [
      "Accuracy on training data = 0.639810\n",
      "Accuracy on test data = 0.654430\n",
      "\n",
      "\n",
      "For C value = 0.100000:\n"
     ]
    },
    {
     "name": "stderr",
     "output_type": "stream",
     "text": [
      "/anaconda3/lib/python3.7/site-packages/sklearn/linear_model/sag.py:334: ConvergenceWarning: The max_iter was reached which means the coef_ did not converge\n",
      "  \"the coef_ did not converge\", ConvergenceWarning)\n"
     ]
    },
    {
     "name": "stdout",
     "output_type": "stream",
     "text": [
      "Accuracy on training data = 0.639284\n",
      "Accuracy on test data = 0.654430\n",
      "\n",
      "\n",
      "For C value = 1.000000:\n"
     ]
    },
    {
     "name": "stderr",
     "output_type": "stream",
     "text": [
      "/anaconda3/lib/python3.7/site-packages/sklearn/linear_model/sag.py:334: ConvergenceWarning: The max_iter was reached which means the coef_ did not converge\n",
      "  \"the coef_ did not converge\", ConvergenceWarning)\n"
     ]
    },
    {
     "name": "stdout",
     "output_type": "stream",
     "text": [
      "Accuracy on training data = 0.639284\n",
      "Accuracy on test data = 0.654430\n",
      "\n",
      "\n",
      "For C value = 10.000000:\n"
     ]
    },
    {
     "name": "stderr",
     "output_type": "stream",
     "text": [
      "/anaconda3/lib/python3.7/site-packages/sklearn/linear_model/sag.py:334: ConvergenceWarning: The max_iter was reached which means the coef_ did not converge\n",
      "  \"the coef_ did not converge\", ConvergenceWarning)\n"
     ]
    },
    {
     "name": "stdout",
     "output_type": "stream",
     "text": [
      "Accuracy on training data = 0.639810\n",
      "Accuracy on test data = 0.654430\n",
      "\n",
      "\n",
      "For C value = 100.000000:\n"
     ]
    },
    {
     "name": "stderr",
     "output_type": "stream",
     "text": [
      "/anaconda3/lib/python3.7/site-packages/sklearn/linear_model/sag.py:334: ConvergenceWarning: The max_iter was reached which means the coef_ did not converge\n",
      "  \"the coef_ did not converge\", ConvergenceWarning)\n"
     ]
    },
    {
     "name": "stdout",
     "output_type": "stream",
     "text": [
      "Accuracy on training data = 0.639284\n",
      "Accuracy on test data = 0.654430\n"
     ]
    },
    {
     "data": {
      "image/png": "[encoded data removed]",
      "text/plain": [
       "<Figure size 432x288 with 1 Axes>"
      ]
     },
     "metadata": {
      "needs_background": "light"
     },
     "output_type": "display_data"
    }
   ],
   "source": [
    "acc_train_logreg = []\n",
    "acc_test_logreg = []\n",
    "c_logreg = []\n",
    "\n",
    "# Logistic Regression with Lasso using Polynomial Feature Transformation\n",
    "print(\"Logistic Regression with Lasso using Polynomial Feature Transformation\")\n",
    "print(\"======================================================================\")\n",
    "for c in cVals:\n",
    "    print(\"\\n\")\n",
    "    print(\"For C value = %f:\" % c)\n",
    "    logreg_model(c, X_transformed_train, Y_train, X_transformed_test, Y_test, 100)\n",
    "\n",
    "plt.title(\"Logistic Regression with Lasso using Polynomial Feature Transformation\")\n",
    "plt.xlabel(\"C value\")\n",
    "plt.ylabel(\"Accuracy\")\n",
    "plt.plot(c_logreg,acc_train_logreg)\n",
    "plt.plot(c_logreg,acc_test_logreg)\n",
    "plt.legend(['Training Accuracy', 'Test Accuracy'], loc='lower right')\n",
    "plt.show()"
   ]
  },
  {
   "cell_type": "code",
   "execution_count": 18,
   "metadata": {},
   "outputs": [
    {
     "name": "stdout",
     "output_type": "stream",
     "text": [
      "Logistic Regression with Ridge using Polynomial Feature Transformation\n",
      "======================================================================\n",
      "\n",
      "\n",
      "For C value = 0.000100:\n"
     ]
    },
    {
     "name": "stderr",
     "output_type": "stream",
     "text": [
      "/anaconda3/lib/python3.7/site-packages/sklearn/svm/base.py:922: ConvergenceWarning: Liblinear failed to converge, increase the number of iterations.\n",
      "  \"the number of iterations.\", ConvergenceWarning)\n"
     ]
    },
    {
     "name": "stdout",
     "output_type": "stream",
     "text": [
      "Accuracy on training data = 0.864139\n",
      "Accuracy on test data = 0.834177\n",
      "\n",
      "\n",
      "For C value = 0.001000:\n"
     ]
    },
    {
     "name": "stderr",
     "output_type": "stream",
     "text": [
      "/anaconda3/lib/python3.7/site-packages/sklearn/svm/base.py:922: ConvergenceWarning: Liblinear failed to converge, increase the number of iterations.\n",
      "  \"the number of iterations.\", ConvergenceWarning)\n"
     ]
    },
    {
     "name": "stdout",
     "output_type": "stream",
     "text": [
      "Accuracy on training data = 0.856240\n",
      "Accuracy on test data = 0.836709\n",
      "\n",
      "\n",
      "For C value = 0.010000:\n"
     ]
    },
    {
     "name": "stderr",
     "output_type": "stream",
     "text": [
      "/anaconda3/lib/python3.7/site-packages/sklearn/svm/base.py:922: ConvergenceWarning: Liblinear failed to converge, increase the number of iterations.\n",
      "  \"the number of iterations.\", ConvergenceWarning)\n"
     ]
    },
    {
     "name": "stdout",
     "output_type": "stream",
     "text": [
      "Accuracy on training data = 0.857293\n",
      "Accuracy on test data = 0.835443\n",
      "\n",
      "\n",
      "For C value = 0.100000:\n"
     ]
    },
    {
     "name": "stderr",
     "output_type": "stream",
     "text": [
      "/anaconda3/lib/python3.7/site-packages/sklearn/svm/base.py:922: ConvergenceWarning: Liblinear failed to converge, increase the number of iterations.\n",
      "  \"the number of iterations.\", ConvergenceWarning)\n"
     ]
    },
    {
     "name": "stdout",
     "output_type": "stream",
     "text": [
      "Accuracy on training data = 0.867825\n",
      "Accuracy on test data = 0.836709\n",
      "\n",
      "\n",
      "For C value = 1.000000:\n"
     ]
    },
    {
     "name": "stderr",
     "output_type": "stream",
     "text": [
      "/anaconda3/lib/python3.7/site-packages/sklearn/svm/base.py:922: ConvergenceWarning: Liblinear failed to converge, increase the number of iterations.\n",
      "  \"the number of iterations.\", ConvergenceWarning)\n"
     ]
    },
    {
     "name": "stdout",
     "output_type": "stream",
     "text": [
      "Accuracy on training data = 0.855187\n",
      "Accuracy on test data = 0.831646\n",
      "\n",
      "\n",
      "For C value = 10.000000:\n"
     ]
    },
    {
     "name": "stderr",
     "output_type": "stream",
     "text": [
      "/anaconda3/lib/python3.7/site-packages/sklearn/svm/base.py:922: ConvergenceWarning: Liblinear failed to converge, increase the number of iterations.\n",
      "  \"the number of iterations.\", ConvergenceWarning)\n"
     ]
    },
    {
     "name": "stdout",
     "output_type": "stream",
     "text": [
      "Accuracy on training data = 0.858346\n",
      "Accuracy on test data = 0.834177\n",
      "\n",
      "\n",
      "For C value = 100.000000:\n"
     ]
    },
    {
     "name": "stderr",
     "output_type": "stream",
     "text": [
      "/anaconda3/lib/python3.7/site-packages/sklearn/svm/base.py:922: ConvergenceWarning: Liblinear failed to converge, increase the number of iterations.\n",
      "  \"the number of iterations.\", ConvergenceWarning)\n"
     ]
    },
    {
     "name": "stdout",
     "output_type": "stream",
     "text": [
      "Accuracy on training data = 0.858346\n",
      "Accuracy on test data = 0.829114\n"
     ]
    },
    {
     "data": {
      "image/png": "[encoded data removed]",
      "text/plain": [
       "<Figure size 432x288 with 1 Axes>"
      ]
     },
     "metadata": {
      "needs_background": "light"
     },
     "output_type": "display_data"
    }
   ],
   "source": [
    "acc_train_logreg2 = []\n",
    "acc_test_logreg2 = []\n",
    "c_logreg2 = []\n",
    "\n",
    "# Logistic Regression with Ridge using Polynomial Feature Transformation\n",
    "print(\"Logistic Regression with Ridge using Polynomial Feature Transformation\")\n",
    "print(\"======================================================================\")\n",
    "for c in cVals:\n",
    "    print(\"\\n\")\n",
    "    print(\"For C value = %f:\" % c)\n",
    "    logreg2_model(c, X_transformed_train, Y_train, X_transformed_test, Y_test, 100)\n",
    "\n",
    "plt.title(\"Logistic Regression with Ridge using Polynomial Feature Transformation\")\n",
    "plt.xlabel(\"C value\")\n",
    "plt.ylabel(\"Accuracy\")\n",
    "plt.plot(c_logreg2, acc_train_logreg2)\n",
    "plt.plot(c_logreg2, acc_test_logreg2)\n",
    "plt.legend(['Training Accuracy', 'Test Accuracy'], loc='lower right')\n",
    "plt.show()"
   ]
  },
  {
   "cell_type": "markdown",
   "metadata": {},
   "source": [
    "# Support Vector Machines (SVM)"
   ]
  },
  {
   "cell_type": "markdown",
   "metadata": {},
   "source": [
    "# SVM using Linear Kernel"
   ]
  },
  {
   "cell_type": "code",
   "execution_count": 19,
   "metadata": {},
   "outputs": [],
   "source": [
    "acc_train_svm_linear = []\n",
    "acc_test_svm_linear = []\n",
    "c_svm_linear = []"
   ]
  },
  {
   "cell_type": "code",
   "execution_count": 20,
   "metadata": {},
   "outputs": [],
   "source": [
    "from sklearn import svm\n",
    "\n",
    "def svm_linear(c):\n",
    "    # SVM using Linear Kernel\n",
    "    svc_linear = svm.SVC(probability = False, kernel = 'linear', C = c)\n",
    "    \n",
    "    # Fit the classifier on the training set\n",
    "    svc_linear.fit(X_train, Y_train)\n",
    "    \n",
    "    # Find the prediction and accuracy on the training set\n",
    "    Yhat_svc_linear_train = svc_linear.predict(X_train)\n",
    "    acc_train = svc_linear.score(X_train, Y_train)\n",
    "    \n",
    "    # Adding testing accuracy to acc_train_svm\n",
    "    acc_train_svm_linear.append(acc_train)\n",
    "    print('Train Accuracy = {0:f}'.format(acc_train))\n",
    "    \n",
    "    # Find the prediction and accuracy on the test set\n",
    "    Yhat_svc_linear_test = svc_linear.predict(X_test)\n",
    "    acc_test = svc_linear.score(X_test, Y_test)\n",
    "    \n",
    "    # Adding testing accuracy to acc_test_svm\n",
    "    acc_test_svm_linear.append(acc_test)\n",
    "    print('Test Accuracy = {0:f}'.format(acc_test))\n",
    "    \n",
    "    # Appending value of c for graphing purposes\n",
    "    c_svm_linear.append(c)"
   ]
  },
  {
   "cell_type": "code",
   "execution_count": 21,
   "metadata": {},
   "outputs": [
    {
     "name": "stdout",
     "output_type": "stream",
     "text": [
      "SVM using Linear Kernel\n",
      "=======================\n",
      "\n",
      "\n",
      "For C value = 0.000100:\n",
      "Train Accuracy = 0.818852\n",
      "Test Accuracy = 0.822785\n",
      "\n",
      "\n",
      "For C value = 0.001000:\n",
      "Train Accuracy = 0.861506\n",
      "Test Accuracy = 0.832911\n",
      "\n",
      "\n",
      "For C value = 0.010000:\n",
      "Train Accuracy = 0.874144\n",
      "Test Accuracy = 0.816456\n",
      "\n",
      "\n",
      "For C value = 0.100000:\n",
      "Train Accuracy = 0.878884\n",
      "Test Accuracy = 0.811392\n",
      "\n",
      "\n",
      "For C value = 1.000000:\n",
      "Train Accuracy = 0.876777\n",
      "Test Accuracy = 0.801266\n",
      "\n",
      "\n",
      "For C value = 10.000000:\n",
      "Train Accuracy = 0.878357\n",
      "Test Accuracy = 0.805063\n"
     ]
    }
   ],
   "source": [
    "# Large C values take extremely long and have been removed\n",
    "cVals = [0.0001, 0.001, 0.01, 0.1, 1, 10]\n",
    "print(\"SVM using Linear Kernel\")\n",
    "print(\"=======================\")\n",
    "for c in cVals:\n",
    "    print(\"\\n\")\n",
    "    print(\"For C value = %f:\" % c)\n",
    "    svm_linear(c)"
   ]
  },
  {
   "cell_type": "code",
   "execution_count": 22,
   "metadata": {},
   "outputs": [
    {
     "data": {
      "image/png": "[encoded data removed]",
      "text/plain": [
       "<Figure size 432x288 with 1 Axes>"
      ]
     },
     "metadata": {
      "needs_background": "light"
     },
     "output_type": "display_data"
    }
   ],
   "source": [
    "plt.title(\"SVM using Linear Kernel\")\n",
    "plt.xlabel(\"C value\")\n",
    "plt.ylabel(\"Accuracy\")\n",
    "plt.plot(c_svm_linear, acc_train_svm_linear)\n",
    "plt.plot(c_svm_linear, acc_test_svm_linear)\n",
    "plt.legend(['Training Accuracy', 'Test Accuracy'], loc='lower right')\n",
    "plt.show()"
   ]
  },
  {
   "cell_type": "markdown",
   "metadata": {},
   "source": [
    "# SVM using Radial Basis Function(RBF) Kernel"
   ]
  },
  {
   "cell_type": "code",
   "execution_count": 23,
   "metadata": {},
   "outputs": [],
   "source": [
    "acc_train_svm_rbf = []\n",
    "acc_test_svm_rbf = []\n",
    "c_svm_rbf = []"
   ]
  },
  {
   "cell_type": "code",
   "execution_count": 24,
   "metadata": {},
   "outputs": [],
   "source": [
    "def svm_rbf(c):\n",
    "    # SVM using RBF\n",
    "    svc_rbf = svm.SVC(probability = False, kernel = 'rbf', C = c, gamma = 'auto')\n",
    "    \n",
    "    # Fit the classifier on the training set\n",
    "    svc_rbf.fit(X_train, Y_train)\n",
    "    \n",
    "    # Find the prediction and accuracy on the training set\n",
    "    Yhat_svc_rbf_train = svc_rbf.predict(X_train)\n",
    "    acc_train = svc_rbf.score(X_train, Y_train)\n",
    "    \n",
    "    # Adding testing accuracy to acc_train_svm\n",
    "    acc_train_svm_rbf.append(acc_train)\n",
    "    print('Train Accuracy = {0:f}'.format(acc_train))\n",
    "    \n",
    "    # Find the prediction and accuracy on the test set\n",
    "    Yhat_svc_rbf_test = svc_rbf.predict(X_test)\n",
    "    acc_test = svc_rbf.score(X_test, Y_test)\n",
    "    \n",
    "    # Adding testing accuracy to acc_test_svm\n",
    "    acc_test_svm_rbf.append(acc_test)\n",
    "    print('Test Accuracy = {0:f}'.format(acc_test))\n",
    "    \n",
    "    # Appending value of c for graphing purposes\n",
    "    c_svm_rbf.append(c)"
   ]
  },
  {
   "cell_type": "code",
   "execution_count": 25,
   "metadata": {},
   "outputs": [
    {
     "name": "stdout",
     "output_type": "stream",
     "text": [
      "SVM using Radial Basis Function (RBF) Kernel\n",
      "============================================\n",
      "\n",
      "\n",
      "For C value = 0.000100:\n",
      "Train Accuracy = 0.631912\n",
      "Test Accuracy = 0.650633\n",
      "\n",
      "\n",
      "For C value = 0.001000:\n",
      "Train Accuracy = 0.631912\n",
      "Test Accuracy = 0.650633\n",
      "\n",
      "\n",
      "For C value = 0.010000:\n",
      "Train Accuracy = 0.631912\n",
      "Test Accuracy = 0.650633\n",
      "\n",
      "\n",
      "For C value = 0.100000:\n",
      "Train Accuracy = 0.631912\n",
      "Test Accuracy = 0.650633\n",
      "\n",
      "\n",
      "For C value = 1.000000:\n",
      "Train Accuracy = 0.995787\n",
      "Test Accuracy = 0.687342\n",
      "\n",
      "\n",
      "For C value = 10.000000:\n",
      "Train Accuracy = 1.000000\n",
      "Test Accuracy = 0.686076\n"
     ]
    }
   ],
   "source": [
    "print(\"SVM using Radial Basis Function (RBF) Kernel\")\n",
    "print(\"============================================\")\n",
    "for c in cVals:\n",
    "    print(\"\\n\")\n",
    "    print(\"For C value = %f:\" % c)\n",
    "    svm_rbf(c)"
   ]
  },
  {
   "cell_type": "code",
   "execution_count": 26,
   "metadata": {},
   "outputs": [
    {
     "data": {
      "image/png": "[encoded data removed]",
      "text/plain": [
       "<Figure size 432x288 with 1 Axes>"
      ]
     },
     "metadata": {
      "needs_background": "light"
     },
     "output_type": "display_data"
    }
   ],
   "source": [
    "plt.title(\"SVM using Radial Basis Function (RBF) Kernel\")\n",
    "plt.xlabel(\"C value\")\n",
    "plt.ylabel(\"Accuracy\")\n",
    "plt.plot(c_svm_rbf, acc_train_svm_rbf)\n",
    "plt.plot(c_svm_rbf, acc_test_svm_rbf)\n",
    "plt.legend(['Training Accuracy', 'Test Accuracy'], loc='lower right')\n",
    "plt.show()"
   ]
  },
  {
   "cell_type": "markdown",
   "metadata": {},
   "source": [
    "# SVM using Polynomial Kernel"
   ]
  },
  {
   "cell_type": "code",
   "execution_count": 27,
   "metadata": {},
   "outputs": [],
   "source": [
    "acc_train_svm_poly = []\n",
    "acc_test_svm_poly = []\n",
    "c_svm_poly = []"
   ]
  },
  {
   "cell_type": "code",
   "execution_count": 28,
   "metadata": {},
   "outputs": [],
   "source": [
    "def svm_polynomial(c):\n",
    "    # SVM using Polynomial Kernel\n",
    "    svc_polynomial = svm.SVC(probability = False, kernel = 'poly', C = c, gamma = 'auto')\n",
    "    \n",
    "    A = np.concatenate((X_train[0:150,:], X_train[-150:,:]))  # First 150 rows and last 150 rows of training set.\n",
    "    B = np.concatenate((Y_train[0:150], Y_train[-150:]))\n",
    "    C = np.concatenate((X_test[0:50,:], X_test[-50:,:]))   # First 50 rows and last 50 rows of test set.\n",
    "    D = np.concatenate((Y_test[0:50], Y_test[-50:]))\n",
    "    \n",
    "    # Fit the classifier on the training set\n",
    "    svc_polynomial.fit(A, B)\n",
    "    \n",
    "    # Find the prediction and accuracy on the training set\n",
    "    Yhat_svc_poly_train = svc_polynomial.predict(A)\n",
    "    acc_train = svc_polynomial.score(A, B)\n",
    "    \n",
    "    # Adding testing accuracy to acc_train_svm\n",
    "    acc_train_svm_poly.append(acc_train)\n",
    "    print('Train Accuracy = {0:f}'.format(acc_train))\n",
    "    \n",
    "    # Find the prediction and accuracy on the test set\n",
    "    Yhat_svc_poly_test = svc_polynomial.predict(C)\n",
    "    acc_test = svc_polynomial.score(C, D)\n",
    "    \n",
    "    # Adding testing accuracy to acc_test_svm\n",
    "    acc_test_svm_poly.append(acc_test)\n",
    "    print('Test Accuracy = {0:f}'.format(acc_test))\n",
    "    \n",
    "    # Appending value of c for graphing purposes\n",
    "    c_svm_poly.append(c)"
   ]
  },
  {
   "cell_type": "code",
   "execution_count": 29,
   "metadata": {},
   "outputs": [
    {
     "name": "stdout",
     "output_type": "stream",
     "text": [
      "SVM using Polynomial Kernel\n",
      "===========================\n",
      "\n",
      "\n",
      "For C value = 0.000001:\n",
      "Train Accuracy = 0.566667\n",
      "Test Accuracy = 0.580000\n",
      "\n",
      "\n",
      "For C value = 0.000006:\n",
      "Train Accuracy = 0.680000\n",
      "Test Accuracy = 0.650000\n",
      "\n",
      "\n",
      "For C value = 0.000032:\n",
      "Train Accuracy = 0.716667\n",
      "Test Accuracy = 0.690000\n",
      "\n",
      "\n",
      "For C value = 0.000178:\n",
      "Train Accuracy = 0.853333\n",
      "Test Accuracy = 0.730000\n",
      "\n",
      "\n",
      "For C value = 0.001000:\n",
      "Train Accuracy = 0.940000\n",
      "Test Accuracy = 0.770000\n"
     ]
    }
   ],
   "source": [
    "cVals = np.geomspace(0.000001, 0.001, 5)\n",
    "print(\"SVM using Polynomial Kernel\")\n",
    "print(\"===========================\")\n",
    "for c in cVals:\n",
    "    print(\"\\n\")\n",
    "    print(\"For C value = %f:\" % c)\n",
    "    svm_polynomial(c)"
   ]
  },
  {
   "cell_type": "code",
   "execution_count": 30,
   "metadata": {},
   "outputs": [
    {
     "data": {
      "image/png": "[encoded data removed]",
      "text/plain": [
       "<Figure size 432x288 with 1 Axes>"
      ]
     },
     "metadata": {
      "needs_background": "light"
     },
     "output_type": "display_data"
    }
   ],
   "source": [
    "plt.title(\"SVM using Polynomial Kernel\")\n",
    "plt.xlabel(\"C value\")\n",
    "plt.ylabel(\"Accuracy\")\n",
    "plt.plot(c_svm_poly, acc_train_svm_poly)\n",
    "plt.plot(c_svm_poly, acc_test_svm_poly)\n",
    "plt.legend(['Training Accuracy', 'Test Accuracy'], loc='lower right')\n",
    "plt.show()"
   ]
  },
  {
   "cell_type": "code",
   "execution_count": null,
   "metadata": {},
   "outputs": [],
   "source": []
  }
 ],
 "metadata": {
  "kernelspec": {
   "display_name": "Python 3",
   "language": "python",
   "name": "python3"
  },
  "language_info": {
   "codemirror_mode": {
    "name": "ipython",
    "version": 3
   },
   "file_extension": ".py",
   "mimetype": "text/x-python",
   "name": "python",
   "nbconvert_exporter": "python",
   "pygments_lexer": "ipython3",
   "version": "3.7.1"
  }
 },
 "nbformat": 4,
 "nbformat_minor": 2
}
