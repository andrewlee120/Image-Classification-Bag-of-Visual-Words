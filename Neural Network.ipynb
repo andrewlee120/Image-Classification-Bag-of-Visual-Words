{
 "cells": [
  {
   "cell_type": "markdown",
   "metadata": {},
   "source": [
    "# Neural Network\n",
    "- Train neural network classifier\n",
    "- Try different configurations"
   ]
  },
  {
   "cell_type": "code",
   "execution_count": 1,
   "metadata": {},
   "outputs": [],
   "source": [
    "from sklearn.preprocessing import StandardScaler\n",
    "from sklearn.metrics import accuracy_score\n",
    "import numpy as np\n",
    "import matplotlib.pyplot as plt \n",
    "import pandas as pd\n",
    "from sklearn.neural_network import MLPClassifier\n",
    "%matplotlib inline"
   ]
  },
  {
   "cell_type": "code",
   "execution_count": 2,
   "metadata": {},
   "outputs": [
    {
     "name": "stdout",
     "output_type": "stream",
     "text": [
      "(1899, 201)\n",
      "(790, 201)\n"
     ]
    }
   ],
   "source": [
    "df_train = pd.read_csv(\"train_data.csv\") \n",
    "print(df_train.shape)\n",
    "\n",
    "df_test = pd.read_csv(\"test_data.csv\")\n",
    "print(df_test.shape)"
   ]
  },
  {
   "cell_type": "code",
   "execution_count": 3,
   "metadata": {},
   "outputs": [
    {
     "name": "stdout",
     "output_type": "stream",
     "text": [
      "(1899, 201)\n",
      "(790, 201)\n"
     ]
    }
   ],
   "source": [
    "df1_train = df_train.dropna()\n",
    "print(df1_train.shape)\n",
    "\n",
    "df1_test = df_test.dropna()\n",
    "print(df1_test.shape)"
   ]
  },
  {
   "cell_type": "code",
   "execution_count": 4,
   "metadata": {},
   "outputs": [
    {
     "name": "stdout",
     "output_type": "stream",
     "text": [
      "(1899, 201)\n",
      "(790, 201)\n"
     ]
    }
   ],
   "source": [
    "df2_train = df1_train.values\n",
    "print(df2_train.shape)\n",
    "\n",
    "df2_test = df1_test.values\n",
    "print(df2_test.shape)"
   ]
  },
  {
   "cell_type": "code",
   "execution_count": 5,
   "metadata": {},
   "outputs": [],
   "source": [
    "X_train = df2_train[:,:200]\n",
    "Y_train = df2_train[:,200]\n",
    "X_test = df2_test[:,:200]\n",
    "Y_test = df2_test[:,200]"
   ]
  },
  {
   "cell_type": "code",
   "execution_count": 6,
   "metadata": {},
   "outputs": [],
   "source": [
    "clf1 = MLPClassifier(activation = 'relu', hidden_layer_sizes = (200,200))\n",
    "clf2 = MLPClassifier(activation = 'relu', hidden_layer_sizes = (100,50))\n",
    "clf3 = MLPClassifier(activation = 'relu', hidden_layer_sizes = (50,10))"
   ]
  },
  {
   "cell_type": "code",
   "execution_count": 7,
   "metadata": {},
   "outputs": [
    {
     "data": {
      "text/plain": [
       "MLPClassifier(activation='relu', alpha=0.0001, batch_size='auto', beta_1=0.9,\n",
       "       beta_2=0.999, early_stopping=False, epsilon=1e-08,\n",
       "       hidden_layer_sizes=(50, 10), learning_rate='constant',\n",
       "       learning_rate_init=0.001, max_iter=200, momentum=0.9,\n",
       "       n_iter_no_change=10, nesterovs_momentum=True, power_t=0.5,\n",
       "       random_state=None, shuffle=True, solver='adam', tol=0.0001,\n",
       "       validation_fraction=0.1, verbose=False, warm_start=False)"
      ]
     },
     "execution_count": 7,
     "metadata": {},
     "output_type": "execute_result"
    }
   ],
   "source": [
    "clf1.fit(X_train,Y_train)\n",
    "clf2.fit(X_train,Y_train)\n",
    "clf3.fit(X_train,Y_train)"
   ]
  },
  {
   "cell_type": "code",
   "execution_count": 8,
   "metadata": {},
   "outputs": [
    {
     "name": "stdout",
     "output_type": "stream",
     "text": [
      "(200,200) hidden layers: test score=0.8240506329113924, train score=1.0\n",
      "(100,50) hidden layers: test score=0.8367088607594937, train score=1.0\n",
      "(50,10) hidden layers: test score=0.8367088607594937, train score=1.0\n"
     ]
    }
   ],
   "source": [
    "Y_hat1 = clf1.predict(X_test)\n",
    "Y_hat_train_1 = clf1.predict(X_train)\n",
    "score1 = np.sum(Y_hat1 == Y_test)/len(Y_test)\n",
    "score1_train = np.sum(Y_hat_train_1 == Y_train)/len(Y_train)\n",
    "\n",
    "Y_hat2 = clf2.predict(X_test)\n",
    "Y_hat_train_2 = clf2.predict(X_train)\n",
    "score2 = np.sum(Y_hat2 == Y_test)/len(Y_test)\n",
    "score2_train = np.sum(Y_hat_train_2 == Y_train)/len(Y_train)\n",
    "\n",
    "Y_hat3 = clf3.predict(X_test)\n",
    "Y_hat_train_3 = clf3.predict(X_train)\n",
    "score3 = np.sum(Y_hat2 == Y_test)/len(Y_test)\n",
    "score3_train = np.sum(Y_hat_train_3 == Y_train)/len(Y_train)\n",
    "\n",
    "print('(200,200) hidden layers: test score={}, train score={}'.format(score1,score1_train))\n",
    "print('(100,50) hidden layers: test score={}, train score={}'.format(score2,score2_train))\n",
    "print('(50,10) hidden layers: test score={}, train score={}'.format(score3,score3_train))"
   ]
  },
  {
   "cell_type": "code",
   "execution_count": 9,
   "metadata": {},
   "outputs": [],
   "source": [
    "## Looks like (200,200) works the best\n",
    "## Try different activation functions\n",
    "clf_relu = MLPClassifier(activation = 'relu', hidden_layer_sizes = (200,200))\n",
    "clf_tanh = MLPClassifier(activation = 'tanh', hidden_layer_sizes = (200,200))\n",
    "clf_log = MLPClassifier(activation = 'logistic', hidden_layer_sizes = (200,200))"
   ]
  },
  {
   "cell_type": "code",
   "execution_count": 10,
   "metadata": {},
   "outputs": [
    {
     "data": {
      "text/plain": [
       "MLPClassifier(activation='logistic', alpha=0.0001, batch_size='auto',\n",
       "       beta_1=0.9, beta_2=0.999, early_stopping=False, epsilon=1e-08,\n",
       "       hidden_layer_sizes=(200, 200), learning_rate='constant',\n",
       "       learning_rate_init=0.001, max_iter=200, momentum=0.9,\n",
       "       n_iter_no_change=10, nesterovs_momentum=True, power_t=0.5,\n",
       "       random_state=None, shuffle=True, solver='adam', tol=0.0001,\n",
       "       validation_fraction=0.1, verbose=False, warm_start=False)"
      ]
     },
     "execution_count": 10,
     "metadata": {},
     "output_type": "execute_result"
    }
   ],
   "source": [
    "clf_relu.fit(X_train,Y_train)\n",
    "clf_tanh.fit(X_train,Y_train)\n",
    "clf_log.fit(X_train,Y_train)"
   ]
  },
  {
   "cell_type": "code",
   "execution_count": 11,
   "metadata": {},
   "outputs": [
    {
     "name": "stdout",
     "output_type": "stream",
     "text": [
      "relu: test score=0.8430379746835444, train score=1.0\n",
      "tanh: test score=0.859493670886076, train score=1.0\n",
      "logistic: test score=0.859493670886076, train score=1.0\n"
     ]
    }
   ],
   "source": [
    "Y_hat1 = clf_relu.predict(X_test)\n",
    "Y_hat_train_1 = clf_relu.predict(X_train)\n",
    "score1 = np.sum(Y_hat1 == Y_test)/len(Y_test)\n",
    "score1_train = np.sum(Y_hat_train_1 == Y_train)/len(Y_train)\n",
    "\n",
    "Y_hat2 = clf_tanh.predict(X_test)\n",
    "Y_hat_train_2 = clf_tanh.predict(X_train)\n",
    "score2 = np.sum(Y_hat2 == Y_test)/len(Y_test)\n",
    "score2_train = np.sum(Y_hat_train_2 == Y_train)/len(Y_train)\n",
    "\n",
    "Y_hat3 = clf_log.predict(X_test)\n",
    "Y_hat_train_3 = clf_log.predict(X_train)\n",
    "score3 = np.sum(Y_hat2 == Y_test)/len(Y_test)\n",
    "score3_train = np.sum(Y_hat_train_3 == Y_train)/len(Y_train)\n",
    "\n",
    "print('relu: test score={}, train score={}'.format(score1,score1_train))\n",
    "print('tanh: test score={}, train score={}'.format(score2,score2_train))\n",
    "print('logistic: test score={}, train score={}'.format(score3,score3_train))\n",
    "\n",
    "## Looks like Relu works the best"
   ]
  },
  {
   "cell_type": "code",
   "execution_count": 12,
   "metadata": {},
   "outputs": [],
   "source": [
    "## Try different alpha parameter \"L2 penalty\"\n",
    "alpha = [1e-05,1e-04,1e-03,1e-02,1e-01,1,10,100,1000]\n",
    "score_train_list = np.zeros(len(alpha))\n",
    "score_test_list = np.zeros(len(alpha))\n",
    "for i in range(len(alpha)):\n",
    "    clf = MLPClassifier(activation = 'relu', hidden_layer_sizes = (200,200),\n",
    "                       alpha = alpha[i])\n",
    "    clf.fit(X_train,Y_train)\n",
    "    Y_hat = clf.predict(X_test)\n",
    "    Y_hat_train_ = clf.predict(X_train)\n",
    "    score_test_list[i] = np.sum(Y_hat == Y_test)/len(Y_test)\n",
    "    score_train_list[i]= np.sum(Y_hat_train_ == Y_train)/len(Y_train)"
   ]
  },
  {
   "cell_type": "code",
   "execution_count": 13,
   "metadata": {},
   "outputs": [
    {
     "data": {
      "image/png": "[encoded data removed]",
      "text/plain": [
       "<Figure size 432x288 with 1 Axes>"
      ]
     },
     "metadata": {
      "needs_background": "light"
     },
     "output_type": "display_data"
    }
   ],
   "source": [
    "plt.figure()\n",
    "plt.plot(np.log10(alpha),score_train_list)\n",
    "plt.plot(np.log10(alpha),score_test_list)\n",
    "plt.legend(['train','test'])\n",
    "plt.show()"
   ]
  },
  {
   "cell_type": "code",
   "execution_count": 14,
   "metadata": {},
   "outputs": [],
   "source": [
    "## The train score was initially at 1 for low alpha, which indicates that \n",
    "## there is overfitting. When alpha increase, we can see that train score\n",
    "## decrease but test score increase, indicating improving generalization.\n",
    "## We choose a value near 10 as our final configuration\n",
    "clf = MLPClassifier(activation = 'relu', hidden_layer_sizes = (200,200),\n",
    "                       alpha = 10)"
   ]
  },
  {
   "cell_type": "code",
   "execution_count": 15,
   "metadata": {},
   "outputs": [],
   "source": [
    "clf.fit(X_train,Y_train)\n",
    "Y_hat = clf.predict(X_test)\n",
    "score_test = np.sum(Y_hat == Y_test)/len(Y_test)"
   ]
  },
  {
   "cell_type": "code",
   "execution_count": 16,
   "metadata": {},
   "outputs": [
    {
     "name": "stdout",
     "output_type": "stream",
     "text": [
      "0.8696202531645569\n"
     ]
    }
   ],
   "source": [
    "print(score_test)"
   ]
  },
  {
   "cell_type": "code",
   "execution_count": null,
   "metadata": {},
   "outputs": [],
   "source": []
  }
 ],
 "metadata": {
  "kernelspec": {
   "display_name": "Python 3",
   "language": "python",
   "name": "python3"
  },
  "language_info": {
   "codemirror_mode": {
    "name": "ipython",
    "version": 3
   },
   "file_extension": ".py",
   "mimetype": "text/x-python",
   "name": "python",
   "nbconvert_exporter": "python",
   "pygments_lexer": "ipython3",
   "version": "3.7.1"
  }
 },
 "nbformat": 4,
 "nbformat_minor": 2
}
